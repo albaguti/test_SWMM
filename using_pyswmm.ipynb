{
 "cells": [
  {
   "cell_type": "markdown",
   "metadata": {},
   "source": [
    "# We will try to use the Swmm code"
   ]
  },
  {
   "cell_type": "code",
   "execution_count": 5,
   "metadata": {},
   "outputs": [],
   "source": [
    "from pyswmm import Simulation\n",
    "\n",
    "with Simulation('models/file1.inp') as sim:\n",
    "    for step in sim:\n",
    "        pass\n",
    "    sim.report()\n"
   ]
  }
 ],
 "metadata": {
  "kernelspec": {
   "display_name": "renku",
   "language": "python",
   "name": "python3"
  },
  "language_info": {
   "codemirror_mode": {
    "name": "ipython",
    "version": 3
   },
   "file_extension": ".py",
   "mimetype": "text/x-python",
   "name": "python",
   "nbconvert_exporter": "python",
   "pygments_lexer": "ipython3",
   "version": "3.10.6"
  }
 },
 "nbformat": 4,
 "nbformat_minor": 2
}
